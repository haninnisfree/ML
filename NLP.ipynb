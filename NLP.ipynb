{
 "cells": [
  {
   "cell_type": "markdown",
   "metadata": {},
   "source": [
    "* tf.keras.preprocessing.text.text_to_word_sequence(\n",
    "    input_text,\n",
    "    filters='!\"#$%&()*+,-./:;<=>?@[\\\\]^_`{|}~\\t\\n',\n",
    "    lower=True,\n",
    "    split=' '\n",
    ")"
   ]
  },
  {
   "cell_type": "code",
   "execution_count": 1,
   "metadata": {},
   "outputs": [
    {
     "name": "stderr",
     "output_type": "stream",
     "text": [
      "2023-10-19 09:33:35.579257: I tensorflow/core/platform/cpu_feature_guard.cc:182] This TensorFlow binary is optimized to use available CPU instructions in performance-critical operations.\n",
      "To enable the following instructions: AVX2 FMA, in other operations, rebuild TensorFlow with the appropriate compiler flags.\n"
     ]
    },
    {
     "name": "stdout",
     "output_type": "stream",
     "text": [
      "\n",
      " 원문 : \n",
      " 해보지 않으면 해낼 수 없다\n",
      "\n",
      " 토큰화 : \n",
      " ['해보지', '않으면', '해낼', '수', '없다']\n"
     ]
    }
   ],
   "source": [
    "import numpy\n",
    "import tensorflow as tf\n",
    "from numpy import array\n",
    "from tensorflow.keras.preprocessing.text import Tokenizer\n",
    "from tensorflow.keras.preprocessing.sequence import pad_sequences\n",
    "from tensorflow.keras.models import Sequential\n",
    "from tensorflow.keras.layers import Dense,Flatten,Embedding\n",
    "\n",
    "# 주어진 문장을 '단어'로 토큰화하기\n",
    "# 케라스의 텍스트 전처리와 관련한 함수중 text_to_word_sequence 함수를 불러옴\n",
    "from tensorflow.keras.preprocessing.text import text_to_word_sequence\n",
    "\n",
    "# 전처리할 텍스트를 정합니다.\n",
    "text = '해보지 않으면 해낼 수 없다'\n",
    "\n",
    "# 해당 텍스트를 토큰화 합니다. \n",
    "result = text_to_word_sequence(text)\n",
    "print ('\\n 원문 : \\n', text)\n",
    "print ('\\n 토큰화 : \\n', result)"
   ]
  },
  {
   "cell_type": "code",
   "execution_count": 2,
   "metadata": {},
   "outputs": [],
   "source": [
    "# 단어 빈도수 세기\n",
    "# 전처리 하려는 세개의 문장을 정합니다. \n",
    "docs = ['먼저 텍스트의 각 단어를 나누어 텍스트의 단위를 토큰화 합니다.',\n",
    "        '텍스트의 단어로 토큰화 해야 딥러닝에서 인식됩니다.',\n",
    "        '토큰화 한 결과는 딥러닝에서 사용할 수 있습니다.']"
   ]
  },
  {
   "cell_type": "code",
   "execution_count": 3,
   "metadata": {},
   "outputs": [
    {
     "name": "stdout",
     "output_type": "stream",
     "text": [
      "\n",
      "단어 카운트:\n",
      " OrderedDict([('먼저', 1), ('텍스트의', 2), ('각', 1), ('단어를', 1), ('나누어', 1), ('토큰화', 3), ('합니다', 1), ('단어로', 1), ('해야', 1), ('딥러닝에서', 2), ('인식됩니다', 1), ('한', 1), ('결과는', 1), ('사용할', 1), ('수', 1), ('있습니다', 1)])\n",
      "\n",
      "문장 카운트 : 3\n",
      "\n",
      "각 단어가 몇 개의 문장에 포함되어 있는가:\n",
      " defaultdict(<class 'int'>, {'단어를': 1, '나누어': 1, '토큰화': 3, '각': 1, '합니다': 1, '먼저': 1, '텍스트의': 2, '인식됩니다': 1, '단어로': 1, '딥러닝에서': 2, '해야': 1, '수': 1, '사용할': 1, '결과는': 1, '있습니다': 1, '한': 1})\n",
      "\n",
      "각 단어에 매겨진 인덱스 값: \n",
      " {'토큰화': 1, '텍스트의': 2, '딥러닝에서': 3, '먼저': 4, '각': 5, '단어를': 6, '나누어': 7, '합니다': 8, '단어로': 9, '해야': 10, '인식됩니다': 11, '한': 12, '결과는': 13, '사용할': 14, '수': 15, '있습니다': 16}\n"
     ]
    }
   ],
   "source": [
    "# 토큰화 함수를 이용해 전처리 하는 과정입니다.\n",
    "token = Tokenizer() # 토큰화 함수 지정\n",
    "token.fit_on_texts(docs) # 토큰화 함수에 문장 적용\n",
    "\n",
    "# 단어의 빈도수를 계산한 결과를 각 옵션에 맞추어 출력합니다. \n",
    "print(\"\\n단어 카운트:\\n\", token.word_counts)\n",
    "# Tokenizer()의 word_counts 함수는 순서를 기억하는 OrderedDict클래스를 사용합니다.\n",
    "\n",
    "# 출력되는 순서는 랜덤입니다.\n",
    "print(\"\\n문장 카운트 :\", token.document_count)\n",
    "print(\"\\n각 단어가 몇 개의 문장에 포함되어 있는가:\\n\", token.word_docs)\n",
    "print(\"\\n각 단어에 매겨진 인덱스 값: \\n\", token.word_index)"
   ]
  },
  {
   "cell_type": "markdown",
   "metadata": {},
   "source": [
    "* tf.keras.preprocessing.text.Tokenizer(\n",
    "    num_words=None,\n",
    "    filters='!\"#$%&()*+,-./:;<=>?@[\\\\]^_`{|}~\\t\\n',\n",
    "    lower=True,\n",
    "    split=' ',\n",
    "    char_level=False,\n",
    "    oov_token=None,\n",
    "    analyzer=None,\n",
    "    **kwargs\n",
    ")\n",
    "\n",
    "* num_words : 한계를 줌 -> 단어의 빈도수에 따라 제거. 즉, 많이 사용하지 않은 단어는 삭제"
   ]
  },
  {
   "cell_type": "code",
   "execution_count": 6,
   "metadata": {},
   "outputs": [
    {
     "name": "stdout",
     "output_type": "stream",
     "text": [
      "문장의 토큰화 : {'오랫동안': 1, '꿈꾸는': 2, '저는': 3, '그': 4, '꿈을': 5, '닮아간다': 6}\n",
      "문장의 숫자화: [[1, 2, 3, 4, 5, 6]]\n",
      "문장의 원-핫 인코딩:\n",
      " [[[0. 1. 0. 0. 0. 0. 0.]\n",
      "  [0. 0. 1. 0. 0. 0. 0.]\n",
      "  [0. 0. 0. 1. 0. 0. 0.]\n",
      "  [0. 0. 0. 0. 1. 0. 0.]\n",
      "  [0. 0. 0. 0. 0. 1. 0.]\n",
      "  [0. 0. 0. 0. 0. 0. 1.]]]\n"
     ]
    }
   ],
   "source": [
    "# 문장의 원-핫 인코딩\n",
    "from tensorflow.keras.preprocessing.text import Tokenizer\n",
    "\n",
    "text = \"오랫동안 꿈꾸는 저는 그 꿈을 닮아간다\"\n",
    "\n",
    "token = Tokenizer()\n",
    "token.fit_on_texts([text])\n",
    "print('문장의 토큰화 :', token.word_index)\n",
    "\n",
    "# 각 단어를 숫자화 \n",
    "x = token.texts_to_sequences([text])\n",
    "print('문장의 숫자화:', x)\n",
    "\n",
    "# 원-핫 인코딩 방식으로 표현하면\n",
    "from tensorflow.keras.utils import to_categorical\n",
    "\n",
    "word_size = len(token.word_index) + 1\n",
    "x = to_categorical(x, num_classes = word_size)\n",
    "print('문장의 원-핫 인코딩:\\n', x)"
   ]
  },
  {
   "cell_type": "markdown",
   "metadata": {},
   "source": []
  },
  {
   "cell_type": "code",
   "execution_count": null,
   "metadata": {},
   "outputs": [],
   "source": []
  }
 ],
 "metadata": {
  "kernelspec": {
   "display_name": "Python 3",
   "language": "python",
   "name": "python3"
  },
  "language_info": {
   "codemirror_mode": {
    "name": "ipython",
    "version": 3
   },
   "file_extension": ".py",
   "mimetype": "text/x-python",
   "name": "python",
   "nbconvert_exporter": "python",
   "pygments_lexer": "ipython3",
   "version": "3.11.6"
  }
 },
 "nbformat": 4,
 "nbformat_minor": 2
}
